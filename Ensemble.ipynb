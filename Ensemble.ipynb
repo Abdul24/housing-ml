{
 "cells": [
  {
   "cell_type": "code",
   "execution_count": 1,
   "metadata": {
    "collapsed": true
   },
   "outputs": [],
   "source": [
    "###########################\n",
    "###                     ###\n",
    "###     Ensembling      ###\n",
    "###                     ###\n",
    "###########################\n",
    "\n",
    "# Acknowledgement:\n",
    "# This script was built by following this blog post:\n",
    "# https://www.dataquest.io/blog/introduction-to-ensembles/\n",
    "\n",
    "import io, os, sys, types\n",
    "from IPython import get_ipython\n",
    "from nbformat import read\n",
    "from IPython.core.interactiveshell import InteractiveShell\n",
    "\n",
    "import numpy as np\n",
    "import pandas as pd\n",
    "from scipy import stats\n",
    "import seaborn as sns\n",
    "import missingno as msno\n",
    "import matplotlib.pyplot as plt\n",
    "%matplotlib inline\n",
    "\n",
    "from sklearn.model_selection import(\n",
    "    KFold,\n",
    "    StratifiedKFold,\n",
    "    cross_val_score,\n",
    "    train_test_split,\n",
    "    GridSearchCV\n",
    ")\n",
    "\n",
    "\n",
    "from sklearn.preprocessing import LabelEncoder\n",
    "from sklearn.model_selection import(\n",
    "    train_test_split,\n",
    "    cross_val_score,\n",
    ")\n",
    "\n",
    "from sklearn.linear_model import(\n",
    "    LassoCV,\n",
    "    ElasticNetCV,\n",
    "    LinearRegression\n",
    ")\n",
    "\n",
    "from sklearn.feature_selection import(\n",
    "    VarianceThreshold,\n",
    "    chi2,\n",
    "    SelectKBest,\n",
    ")\n",
    "\n",
    "from sklearn.ensemble import(\n",
    "    RandomForestRegressor,\n",
    "    GradientBoostingRegressor,\n",
    "    AdaBoostRegressor\n",
    ")\n",
    "\n",
    "from sklearn.metrics import(\n",
    "    mean_absolute_error,\n",
    "    mean_squared_error,\n",
    "    r2_score,\n",
    "    explained_variance_score\n",
    ")\n",
    "\n",
    "from scipy.stats import skew\n",
    "\n",
    "import pickle\n",
    "import xgboost\n",
    "from sklearn.externals import joblib"
   ]
  },
  {
   "cell_type": "code",
   "execution_count": 12,
   "metadata": {
    "collapsed": true
   },
   "outputs": [],
   "source": [
    "data = joblib.load(\"data.pkl\")\n",
    "y = joblib.load(\"y.pkl\")\n",
    "X_train, X_test, y_train, y_test = train_test_split(data, y)"
   ]
  },
  {
   "cell_type": "code",
   "execution_count": 19,
   "metadata": {
    "collapsed": true
   },
   "outputs": [],
   "source": [
    "def get_models():\n",
    "    models = joblib.load(\"models.pkl\")\n",
    "    # These modifications are for testing runtime speeds\n",
    "    # and handling errors.\n",
    "    models[\"RandomForest\"] = RandomForestRegressor()\n",
    "    # There is a bug in this code prevents XGBoost\n",
    "    # from making its final base learner predictions.\n",
    "    # This is a temporary fix.\n",
    "    models[\"XGBoost\"] = gboost = GradientBoostingRegressor(n_estimators=1000, learning_rate=0.085,\n",
    "                                   max_depth=2, max_features=10,loss=\"huber\")\n",
    "    return models\n",
    "\n",
    "\n",
    "def train_predict(model_list):\n",
    "    \"\"\"Fit models in list on training set and return preds\"\"\"\n",
    "    P = np.zeros((y_test.shape[0], len(model_list)))\n",
    "    P = pd.DataFrame(P)\n",
    "\n",
    "    print(\"Fitting models.\")\n",
    "    cols = list()\n",
    "    for i, (name, m) in enumerate(models.items()):\n",
    "        print(\"%s...\" % name, end=\" \", flush=False)\n",
    "        m.fit(X_train, y_train)\n",
    "        P.iloc[:, i] = m.predict(X_test)#[:, 1]\n",
    "        cols.append(name)\n",
    "        print(\"done\")\n",
    "\n",
    "    P.columns = cols\n",
    "    print(\"Done.\\n\")\n",
    "    return P\n",
    "\n",
    "\n",
    "def rmse_cv(model):\n",
    "    rmse= np.sqrt(-cross_val_score(model, X_train, y_train, scoring=\"neg_mean_squared_error\", cv = 5))\n",
    "    return(rmse)\n",
    "\n",
    "def score_models(P, y):\n",
    "    \"\"\"Score model in prediction DF\"\"\"\n",
    "    print(\"Scoring models.\")\n",
    "    for k,v in models.items():\n",
    "        print(k)\n",
    "        print(rmse_cv(v).mean())"
   ]
  },
  {
   "cell_type": "code",
   "execution_count": 6,
   "metadata": {
    "collapsed": true
   },
   "outputs": [],
   "source": [
    "def train_base_learners(base_learners, inp, out):\n",
    "    \"\"\"Train all base learners in the library.\"\"\"\n",
    "    print(\"Fitting models.\")\n",
    "    for i, (name, m) in enumerate(base_learners.items()):\n",
    "        print(\"%s...\" % name, end=\" \", flush=False)\n",
    "        m.fit(inp, out)\n",
    "        print(\"done\")"
   ]
  },
  {
   "cell_type": "code",
   "execution_count": 7,
   "metadata": {
    "collapsed": true
   },
   "outputs": [],
   "source": [
    "def predict_base_learners(pred_base_learners, inp):\n",
    "    \"\"\"Generate a prediction matrix.\"\"\"\n",
    "    P = np.zeros((inp.shape[0], len(pred_base_learners)))\n",
    "    print(\"Generating base learner predictions.\")\n",
    "    for i, (name, m) in enumerate(pred_base_learners.items()):\n",
    "        print(\"%s...\" % name, end=\" \", flush=False)\n",
    "        p = m.predict(inp)\n",
    "        P[:, i] = p\n",
    "        print(\"done\")\n",
    "\n",
    "    return P"
   ]
  },
  {
   "cell_type": "code",
   "execution_count": 8,
   "metadata": {
    "collapsed": true
   },
   "outputs": [],
   "source": [
    "def ensemble_predict(base_learners, meta_learner, inp):\n",
    "    \"\"\"Generate predictions from the ensemble.\"\"\"\n",
    "    P_pred = predict_base_learners(base_learners, inp)\n",
    "    return P_pred, meta_learner.predict(P_pred)"
   ]
  },
  {
   "cell_type": "code",
   "execution_count": 9,
   "metadata": {
    "collapsed": true
   },
   "outputs": [],
   "source": [
    "from sklearn.base import clone\n",
    "\n",
    "def stacking(base_learners, meta_learner, X, y, generator):\n",
    "    \"\"\"Simple training routine for stacking.\"\"\"\n",
    "\n",
    "    # Train final base learners for test time\n",
    "    print(\"Fitting final base learners...\", end=\"\")\n",
    "    train_base_learners(base_learners, X, y)\n",
    "    print(\"done\")\n",
    "\n",
    "    # Generate predictions for training meta learners\n",
    "    # Outer loop:\n",
    "    print(\"Generating cross-validated predictions...\")\n",
    "    cv_preds, cv_y = [], []\n",
    "    for i, (train_idx, test_idx) in enumerate(generator.split(X)):\n",
    "\n",
    "        fold_xtrain, fold_ytrain = X[train_idx, :], y[train_idx]\n",
    "        fold_xtest, fold_ytest = X[test_idx, :], y[test_idx]\n",
    "\n",
    "        # Inner loop: step 4 and 5\n",
    "        fold_base_learners = {name: clone(model)\n",
    "                              for name, model in base_learners.items()}\n",
    "        train_base_learners(\n",
    "            fold_base_learners, fold_xtrain, fold_ytrain)\n",
    "\n",
    "        fold_P_base = predict_base_learners(\n",
    "            fold_base_learners, fold_xtest)\n",
    "\n",
    "        cv_preds.append(fold_P_base)\n",
    "        cv_y.append(fold_ytest)\n",
    "        print(\"Fold %i done\" % (i + 1))\n",
    "\n",
    "    print(\"CV-predictions done\")\n",
    "    \n",
    "    # Be careful to get rows in the right order\n",
    "    cv_preds = np.vstack(cv_preds)\n",
    "    cv_y = np.hstack(cv_y)\n",
    "    # Train meta learner\n",
    "    print(\"Fitting meta learner...\", end=\"\")\n",
    "    meta_learner.fit(cv_preds, cv_y)\n",
    "    print(\"done\")\n",
    "\n",
    "    return base_learners, meta_learner,"
   ]
  },
  {
   "cell_type": "code",
   "execution_count": 10,
   "metadata": {
    "collapsed": true
   },
   "outputs": [],
   "source": [
    "meta_learner = GradientBoostingRegressor(n_estimators=2000)"
   ]
  },
  {
   "cell_type": "code",
   "execution_count": 20,
   "metadata": {},
   "outputs": [
    {
     "name": "stdout",
     "output_type": "stream",
     "text": [
      "Fitting final base learners...Fitting models.\n",
      "Linear... done\n",
      "LassoCV... done\n",
      "ElasticNet... done\n",
      "RandomForest... done\n",
      "XGBoost... done\n",
      "BagRegressor... done\n",
      "done\n",
      "Generating cross-validated predictions...\n",
      "Fitting models.\n",
      "Linear... done\n",
      "LassoCV... done\n",
      "ElasticNet... done\n",
      "RandomForest... done\n",
      "XGBoost... done\n",
      "BagRegressor... done\n",
      "Generating base learner predictions.\n",
      "Linear... done\n",
      "LassoCV... done\n",
      "ElasticNet... done\n",
      "RandomForest... done\n",
      "XGBoost... done\n",
      "BagRegressor... done\n",
      "Fold 1 done\n",
      "Fitting models.\n",
      "Linear... done\n",
      "LassoCV... done\n",
      "ElasticNet... done\n",
      "RandomForest... done\n",
      "XGBoost... done\n",
      "BagRegressor... done\n",
      "Generating base learner predictions.\n",
      "Linear... done\n",
      "LassoCV... done\n",
      "ElasticNet... done\n",
      "RandomForest... done\n",
      "XGBoost... done\n",
      "BagRegressor... done\n",
      "Fold 2 done\n",
      "Fitting models.\n",
      "Linear... done\n",
      "LassoCV... done\n",
      "ElasticNet... done\n",
      "RandomForest... done\n",
      "XGBoost... done\n",
      "BagRegressor... done\n",
      "Generating base learner predictions.\n",
      "Linear... done\n",
      "LassoCV... done\n",
      "ElasticNet... done\n",
      "RandomForest... done\n",
      "XGBoost... done\n",
      "BagRegressor... done\n",
      "Fold 3 done\n",
      "CV-predictions done\n",
      "Fitting meta learner...done\n",
      "Generating base learner predictions.\n",
      "Linear... done\n",
      "LassoCV... done\n",
      "ElasticNet... done\n",
      "RandomForest... done\n",
      "XGBoost... done\n",
      "BagRegressor... done\n"
     ]
    }
   ],
   "source": [
    "from sklearn.model_selection import KFold\n",
    "# Train with stacking\n",
    "cv_base_learners, cv_meta_learner = stacking(\n",
    "    get_models(), clone(meta_learner), X_train.values, y_train.values, KFold(3))\n",
    "\n",
    "P_pred, p = ensemble_predict(cv_base_learners, cv_meta_learner, X_test)"
   ]
  },
  {
   "cell_type": "code",
   "execution_count": 21,
   "metadata": {},
   "outputs": [
    {
     "name": "stdout",
     "output_type": "stream",
     "text": [
      "0.11904546517591683\n"
     ]
    }
   ],
   "source": [
    "def rmse_cv_stack(model, X, y):\n",
    "    rmse= np.sqrt(-cross_val_score(model, X, y, scoring=\"neg_mean_squared_error\", cv = 10))\n",
    "    return(rmse)\n",
    "print(rmse_cv_stack(cv_meta_learner, P_pred, y_test).mean())"
   ]
  },
  {
   "cell_type": "code",
   "execution_count": 22,
   "metadata": {},
   "outputs": [
    {
     "data": {
      "text/plain": [
       "0.9062936767602657"
      ]
     },
     "execution_count": 22,
     "metadata": {},
     "output_type": "execute_result"
    }
   ],
   "source": [
    "r2_score(p, y_test)"
   ]
  },
  {
   "cell_type": "code",
   "execution_count": 25,
   "metadata": {},
   "outputs": [
    {
     "name": "stderr",
     "output_type": "stream",
     "text": [
      "/Library/Frameworks/Python.framework/Versions/3.6/lib/python3.6/site-packages/ipykernel_launcher.py:4: MatplotlibDeprecationWarning: The set_axis_bgcolor function was deprecated in version 2.0. Use set_facecolor instead.\n",
      "  after removing the cwd from sys.path.\n"
     ]
    },
    {
     "data": {
      "text/plain": [
       "<matplotlib.axes._subplots.AxesSubplot at 0x11aef01d0>"
      ]
     },
     "execution_count": 25,
     "metadata": {},
     "output_type": "execute_result"
    },
    {
     "data": {
      "image/png": "[encoded data removed]",
      "text/plain": [
       "<matplotlib.figure.Figure at 0x11aef0400>"
      ]
     },
     "metadata": {},
     "output_type": "display_data"
    }
   ],
   "source": [
    "all_preds = pd.DataFrame({\"ensemble\": p,\n",
    "                          \"true\": y_test})\n",
    "fig, ax = plt.subplots(figsize=(10,10))\n",
    "ax.set_axis_bgcolor(\"#ededed\")\n",
    "sns.regplot(x='true', y='ensemble', data=all_preds, ax=ax, color=\"red\", fit_reg=False, scatter_kws={'alpha':0.2})\n",
    "ax2 = ax.twinx()\n",
    "sns.regplot(x='true', y='true', data=all_preds, ax=ax2, color=\"black\", fit_reg=True, scatter_kws={'alpha': 0})"
   ]
  }
 ],
 "metadata": {
  "kernelspec": {
   "display_name": "Python 3",
   "language": "python",
   "name": "python3"
  },
  "language_info": {
   "codemirror_mode": {
    "name": "ipython",
    "version": 3
   },
   "file_extension": ".py",
   "mimetype": "text/x-python",
   "name": "python",
   "nbconvert_exporter": "python",
   "pygments_lexer": "ipython3",
   "version": "3.6.1"
  }
 },
 "nbformat": 4,
 "nbformat_minor": 2
}
