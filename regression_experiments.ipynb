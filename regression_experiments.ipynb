{
 "cells": [
  {
   "cell_type": "code",
   "execution_count": 246,
   "metadata": {
    "collapsed": true
   },
   "outputs": [],
   "source": [
    "import numpy as np\n",
    "import pandas as pd\n",
    "import seaborn as sns\n",
    "import missingno as msno\n",
    "import matplotlib\n",
    "import matplotlib.pyplot as plt\n",
    "\n",
    "from sklearn.externals import joblib\n",
    "\n",
    "from sklearn.ensemble import(\n",
    "    RandomForestRegressor,\n",
    "    GradientBoostingRegressor,\n",
    "    AdaBoostRegressor\n",
    ")\n",
    "\n",
    "from sklearn.preprocessing import(\n",
    "    scale,\n",
    "    LabelEncoder\n",
    ")\n",
    "from sklearn.decomposition import PCA\n",
    "\n",
    "from sklearn.model_selection import(\n",
    "    train_test_split,\n",
    "    cross_val_score,\n",
    "    GridSearchCV\n",
    ")\n",
    "from sklearn.metrics import(\n",
    "    mean_absolute_error,\n",
    "    mean_squared_error,\n",
    "    r2_score,\n",
    "    explained_variance_score\n",
    ")\n",
    "%matplotlib inline\n",
    "\n",
    "from sklearn.linear_model import(\n",
    "    LassoCV,\n",
    "    ElasticNetCV\n",
    ") \n",
    "\n",
    "from scipy.stats import skew"
   ]
  },
  {
   "cell_type": "code",
   "execution_count": 226,
   "metadata": {
    "collapsed": true
   },
   "outputs": [],
   "source": [
    "train = pd.read_csv(\"train.csv\")\n",
    "test = pd.read_csv(\"test.csv\")"
   ]
  },
  {
   "cell_type": "code",
   "execution_count": 233,
   "metadata": {},
   "outputs": [],
   "source": [
    "# train[\"SalePrice\"] = np.log1p(train[\"SalePrice\"])\n",
    "\n",
    "numeric_feats = train.dtypes[train.dtypes != \"object\"].index\n",
    "\n",
    "# Applying logarithmic transform to skewed features\n",
    "# This code was pulled from Alexandru Papiu:\n",
    "# https://www.kaggle.com/apapiu/regularized-linear-models\n",
    "\n",
    "skewed_feats = train[numeric_feats].apply(lambda x: skew(x.dropna())) #compute skewness\n",
    "skewed_feats = skewed_feats[skewed_feats > 0.75]\n",
    "skewed_feats = skewed_feats.index\n",
    "train[skewed_feats] = np.log1p(train[skewed_feats])\n",
    "\n",
    "# Getting dummy variables\n",
    "train_dummies = pd.get_dummies(train)\n",
    "train_dummies = train_dummies.fillna(train_dummies.mean())\n",
    "\n",
    "# Splitting train df into train and test data\n",
    "train_X = train_dummies.loc[:, train_dummies.columns != 'SalePrice']\n",
    "train_y = train_dummies[\"SalePrice\"]\n",
    "X_train, X_test, y_train, y_test = train_test_split(train_X, train_y)"
   ]
  },
  {
   "cell_type": "code",
   "execution_count": 234,
   "metadata": {},
   "outputs": [
    {
     "name": "stdout",
     "output_type": "stream",
     "text": [
      "0.121207824266\n"
     ]
    },
    {
     "data": {
      "text/plain": [
       "0.89811462759861904"
      ]
     },
     "execution_count": 234,
     "metadata": {},
     "output_type": "execute_result"
    }
   ],
   "source": [
    "\n",
    "# Calculate RMSE\n",
    "def rmse_cv(model):\n",
    "    rmse= np.sqrt(-cross_val_score(model, X_train, y_train, scoring=\"neg_mean_squared_error\", cv = 3))\n",
    "    return(rmse)\n",
    "\n",
    "model_lasso = LassoCV(normalize=True).fit(X_train, y_train)\n",
    "print(rmse_cv(model_lasso).mean())\n",
    "model_lasso.score(X_test, y_test)"
   ]
  },
  {
   "cell_type": "code",
   "execution_count": 235,
   "metadata": {},
   "outputs": [
    {
     "data": {
      "text/plain": [
       "<matplotlib.axes._subplots.AxesSubplot at 0x11ff93f60>"
      ]
     },
     "execution_count": 235,
     "metadata": {},
     "output_type": "execute_result"
    },
    {
     "data": {
      "image/png": "[encoded data removed]",
      "text/plain": [
       "<matplotlib.figure.Figure at 0x113ebe278>"
      ]
     },
     "metadata": {},
     "output_type": "display_data"
    }
   ],
   "source": [
    "preds = pd.DataFrame({\"preds\":model_lasso.predict(X_test), \"true\":y_test})\n",
    "preds[\"residuals\"] = preds[\"true\"] - preds[\"preds\"]\n",
    "preds.plot(x = \"preds\", y = \"residuals\",kind = \"scatter\")"
   ]
  },
  {
   "cell_type": "code",
   "execution_count": 206,
   "metadata": {},
   "outputs": [],
   "source": [
    "# from sklearn.feature_selection import SelectKBest\n",
    "# from sklearn.feature_selection import f_regression, mutual_info_regression\n",
    "\n",
    "\n",
    "# fvalue_selector = SelectKBest(mutual_info_regression, k=9)\n",
    "# X_kbest = fvalue_selector.fit_transform(train_X, train_y)\n",
    "# X_train, X_test, y_train, y_test = train_test_split(X_kbest, train_y)\n",
    "# model_lasso = LassoCV(normalize=True).fit(X_train, y_train)\n",
    "# rmse_cv(model_lasso).mean()\n",
    "# model_lasso.score(X_test, y_test)"
   ]
  },
  {
   "cell_type": "code",
   "execution_count": 236,
   "metadata": {},
   "outputs": [
    {
     "data": {
      "text/plain": [
       "0.86918566312168888"
      ]
     },
     "execution_count": 236,
     "metadata": {},
     "output_type": "execute_result"
    }
   ],
   "source": [
    "rf = RandomForestRegressor(max_features=25, n_estimators=500)\n",
    "rf.fit(X_train, y_train)\n",
    "rf.score(X_test, y_test)"
   ]
  },
  {
   "cell_type": "code",
   "execution_count": null,
   "metadata": {
    "collapsed": true
   },
   "outputs": [],
   "source": [
    "# cross_vals = {}\n",
    "# for i in range(11,12):\n",
    "#     rf = RandomForestRegressor(max_depth=9, max_features=6, random_state=10, n_estimators=500)\n",
    "#     cross_val_mean = np.mean(cross_val_score(rf, X_train, y_train, cv=10))\n",
    "#     cross_vals[str(i)] = cross_val_mean\n",
    "#     print(f\"10-fold cv score mean with max_depth {i}: {cross_val_mean}\")"
   ]
  },
  {
   "cell_type": "code",
   "execution_count": null,
   "metadata": {
    "collapsed": true
   },
   "outputs": [],
   "source": [
    "# grid_search.fit(X_train,y_train)\n",
    "# rf = RandomForestRegressor()\n",
    "# parameters = {\"max_depth\": [9,10,11,12],\n",
    "#               \"min_samples_split\" :[2,3,4,5,6],\n",
    "#               \"n_estimators\" : [100,500],\n",
    "#               \"max_features\": (4,5,6)}\n",
    "# grid_search = GridSearchCV(rf, parameters, n_jobs=3, cv=5)\n",
    "#grid_search_CV = joblib.dump(grid_search, \"grid_search_dummies.pkl\")"
   ]
  },
  {
   "cell_type": "code",
   "execution_count": 96,
   "metadata": {},
   "outputs": [],
   "source": [
    "# Random Forest Feature-Coefficient Dataframe\n",
    "# fcdf = pd.DataFrame.from_dict(dict(zip(list(X_train.columns), list(rf.feature_importances_))), orient=\"index\").sort_values(by=0,ascending=False)"
   ]
  },
  {
   "cell_type": "markdown",
   "metadata": {},
   "source": [
    "# Gradient Boosting Regressor"
   ]
  },
  {
   "cell_type": "code",
   "execution_count": 243,
   "metadata": {},
   "outputs": [
    {
     "name": "stdout",
     "output_type": "stream",
     "text": [
      "GradientBoostingRegressor(alpha=0.9, criterion='friedman_mse', init=None,\n",
      "             learning_rate=0.05, loss='huber', max_depth=9,\n",
      "             max_features='sqrt', max_leaf_nodes=None,\n",
      "             min_impurity_split=1e-07, min_samples_leaf=15,\n",
      "             min_samples_split=10, min_weight_fraction_leaf=0.0,\n",
      "             n_estimators=1000, presort='auto', random_state=None,\n",
      "             subsample=1.0, verbose=0, warm_start=False)\n",
      "Train\n",
      "-------------------------\n",
      "R2: 0.9821448350997466\n",
      "RMSE: 0.05055382506014749\n",
      "Test\n",
      "-------------------------\n",
      "R2: 0.8684252137873668\n",
      "RMSE: 0.14148937000236525\n"
     ]
    }
   ],
   "source": [
    "gboost = GradientBoostingRegressor(n_estimators=1000, learning_rate=0.05,\n",
    "                                   max_depth=9, max_features='sqrt',\n",
    "                                   min_samples_leaf=15, min_samples_split=10, loss='huber')\n",
    "gboost.fit(X_train, y_train)\n",
    "\n",
    "# Prints R2 and RMSE scores\n",
    "def get_score(pred, y):\n",
    "    print('R2: {}'.format(r2_score(pred, y)))\n",
    "    print('RMSE: {}'.format(np.sqrt(mean_squared_error(pred, y))))\n",
    "\n",
    "# Shows scores for train and validation sets    \n",
    "def train_test(estimator, x_trn, x_tst, y_trn, y_tst):\n",
    "    pred_train = estimator.predict(x_trn)\n",
    "    # Printing estimator\n",
    "    print(estimator)\n",
    "    print(\"Train\")\n",
    "    print(\"-\"*25)\n",
    "    # Printing train scores\n",
    "    get_score(pred_train, y_trn)\n",
    "    pred_test = estimator.predict(x_tst)\n",
    "    # Printing test scores\n",
    "    print(\"Test\")\n",
    "    print(\"-\"*25)\n",
    "    get_score(pred_test, y_tst)\n",
    "\n",
    "train_test(gboost, X_train, X_test, y_train, y_test)"
   ]
  },
  {
   "cell_type": "code",
   "execution_count": 244,
   "metadata": {},
   "outputs": [
    {
     "name": "stdout",
     "output_type": "stream",
     "text": [
      "Accuracy: 0.90 (+/- 0.04)\n"
     ]
    }
   ],
   "source": [
    "scores = cross_val_score(gboost, X_train, y_train, cv=5)\n",
    "print(\"Accuracy: %0.2f (+/- %0.2f)\" % (scores.mean(), scores.std() * 2))"
   ]
  },
  {
   "cell_type": "code",
   "execution_count": 245,
   "metadata": {},
   "outputs": [
    {
     "name": "stdout",
     "output_type": "stream",
     "text": [
      "R2: 0.8837422840159325\n"
     ]
    }
   ],
   "source": [
    "combined_pred = (gboost.predict(X_test) + model_lasso.predict(X_test)) / 2\n",
    "print('R2: {}'.format(r2_score(combined_pred, y_test)))"
   ]
  },
  {
   "cell_type": "code",
   "execution_count": 267,
   "metadata": {},
   "outputs": [],
   "source": [
    "elastic_net = ElasticNetCV(alphas=[.0001, .000001],\n",
    "                           l1_ratio=[.01, .1, .5, .9, .99],\n",
    "                           max_iter=5000,\n",
    "                           \n",
    "                          )"
   ]
  },
  {
   "cell_type": "code",
   "execution_count": 268,
   "metadata": {},
   "outputs": [
    {
     "name": "stderr",
     "output_type": "stream",
     "text": [
      "/Library/Frameworks/Python.framework/Versions/3.6/lib/python3.6/site-packages/sklearn/linear_model/coordinate_descent.py:484: ConvergenceWarning: Objective did not converge. You might want to increase the number of iterations. Fitting data with very small alpha may cause precision problems.\n",
      "  ConvergenceWarning)\n"
     ]
    },
    {
     "data": {
      "text/plain": [
       "ElasticNetCV(alphas=[0.0001, 1e-06], copy_X=True, cv=None, eps=0.001,\n",
       "       fit_intercept=True, l1_ratio=[0.01, 0.1, 0.5, 0.9, 0.99],\n",
       "       max_iter=5000, n_alphas=100, n_jobs=1, normalize=False,\n",
       "       positive=False, precompute='auto', random_state=None,\n",
       "       selection='cyclic', tol=0.0001, verbose=0)"
      ]
     },
     "execution_count": 268,
     "metadata": {},
     "output_type": "execute_result"
    }
   ],
   "source": [
    "elastic_net.fit(X_train, y_train)"
   ]
  },
  {
   "cell_type": "code",
   "execution_count": 269,
   "metadata": {},
   "outputs": [
    {
     "name": "stdout",
     "output_type": "stream",
     "text": [
      "ElasticNetCV(alphas=[0.0001, 1e-06], copy_X=True, cv=None, eps=0.001,\n",
      "       fit_intercept=True, l1_ratio=[0.01, 0.1, 0.5, 0.9, 0.99],\n",
      "       max_iter=5000, n_alphas=100, n_jobs=1, normalize=False,\n",
      "       positive=False, precompute='auto', random_state=None,\n",
      "       selection='cyclic', tol=0.0001, verbose=0)\n",
      "Train\n",
      "-------------------------\n",
      "R2: 0.9473778067412635\n",
      "RMSE: 0.08672301070595069\n",
      "Test\n",
      "-------------------------\n",
      "R2: 0.8939235278881271\n",
      "RMSE: 0.13470423440275614\n"
     ]
    }
   ],
   "source": [
    "train_test(elastic_net, X_train, X_test, y_train, y_test)"
   ]
  },
  {
   "cell_type": "code",
   "execution_count": 271,
   "metadata": {},
   "outputs": [
    {
     "name": "stdout",
     "output_type": "stream",
     "text": [
      "R2: 0.8900839587314229\n"
     ]
    }
   ],
   "source": [
    "combined_pred = (gboost.predict(X_test) + elastic_net.predict(X_test)) / 2\n",
    "print('R2: {}'.format(r2_score(combined_pred, y_test)))"
   ]
  },
  {
   "cell_type": "markdown",
   "metadata": {},
   "source": [
    "## Filter by Variance Inflation Factor\n",
    "This takes too long to process for all features, commented out atm."
   ]
  },
  {
   "cell_type": "code",
   "execution_count": 275,
   "metadata": {
    "collapsed": true
   },
   "outputs": [],
   "source": [
    "# from sklearn.base import BaseEstimator, TransformerMixin\n",
    "# from sklearn.preprocessing import Imputer\n",
    "# from statsmodels.stats.outliers_influence import variance_inflation_factor\n",
    "\n",
    "# class ReduceVIF(BaseEstimator, TransformerMixin):\n",
    "#     def __init__(self, thresh=5.0, impute=True, impute_strategy='median'):\n",
    "#         # From looking at documentation, values between 5 and 10 are \"okay\".\n",
    "#         # Above 10 is too high and so should be removed.\n",
    "#         self.thresh = thresh\n",
    "        \n",
    "#         # The statsmodel function will fail with NaN values, as such we have to impute them.\n",
    "#         # By default we impute using the median value.\n",
    "#         # This imputation could be taken out and added as part of an sklearn Pipeline.\n",
    "#         if impute:\n",
    "#             self.imputer = Imputer(strategy=impute_strategy)\n",
    "\n",
    "#     def fit(self, X, y=None):\n",
    "#         print('ReduceVIF fit')\n",
    "#         if hasattr(self, 'imputer'):\n",
    "#             self.imputer.fit(X)\n",
    "#         return self\n",
    "\n",
    "#     def transform(self, X, y=None):\n",
    "#         print('ReduceVIF transform')\n",
    "#         columns = X.columns.tolist()\n",
    "#         if hasattr(self, 'imputer'):\n",
    "#             X = pd.DataFrame(self.imputer.transform(X), columns=columns)\n",
    "#         return ReduceVIF.calculate_vif(X, self.thresh)\n",
    "\n",
    "#     @staticmethod\n",
    "#     def calculate_vif(X, thresh=5.0):\n",
    "#         # Taken from https://stats.stackexchange.com/a/253620/53565 and modified\n",
    "#         dropped=True\n",
    "#         while dropped:\n",
    "#             variables = X.columns\n",
    "#             dropped = False\n",
    "#             vif = [variance_inflation_factor(X[variables].values, X.columns.get_loc(var)) for var in X.columns]\n",
    "            \n",
    "#             max_vif = max(vif)\n",
    "#             if max_vif > thresh:\n",
    "#                 maxloc = vif.index(max_vif)\n",
    "#                 print(f'Dropping {X.columns[maxloc]} with vif={max_vif}')\n",
    "#                 X = X.drop([X.columns.tolist()[maxloc]], axis=1)\n",
    "#                 dropped=True\n",
    "#         return X\n",
    "# transformer = ReduceVIF()\n",
    "\n",
    "# X_transform = transformer.fit_transform(train_X, train_y)\n",
    "\n",
    "# X_transform.head()"
   ]
  }
 ],
 "metadata": {
  "kernelspec": {
   "display_name": "Python 3",
   "language": "python",
   "name": "python3"
  },
  "language_info": {
   "codemirror_mode": {
    "name": "ipython",
    "version": 3
   },
   "file_extension": ".py",
   "mimetype": "text/x-python",
   "name": "python",
   "nbconvert_exporter": "python",
   "pygments_lexer": "ipython3",
   "version": "3.6.1"
  }
 },
 "nbformat": 4,
 "nbformat_minor": 2
}
