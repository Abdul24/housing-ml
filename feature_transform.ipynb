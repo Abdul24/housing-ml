{
 "cells": [
  {
   "cell_type": "markdown",
   "metadata": {},
   "source": [
    "## Data Conversion Notebook\n",
    "This module can be useful to store methods of converting, transforming, and imputing values for datasets."
   ]
  },
  {
   "cell_type": "code",
   "execution_count": 1,
   "metadata": {
    "collapsed": true
   },
   "outputs": [],
   "source": [
    "import pandas as pd"
   ]
  },
  {
   "cell_type": "code",
   "execution_count": 2,
   "metadata": {
    "collapsed": true
   },
   "outputs": [],
   "source": [
    "train = pd.read_csv(\"train.csv\")"
   ]
  },
  {
   "cell_type": "code",
   "execution_count": 3,
   "metadata": {
    "collapsed": true
   },
   "outputs": [],
   "source": [
    "class NumericDataFrame():\n",
    "    \"\"\"\n",
    "    This class converts categorical types of a dataframe into numeric types.\n",
    "    It also automatically imputes missing values as the row mean.\n",
    "    \"\"\"\n",
    "    def __init__(self, df):\n",
    "        self.type_objs = df.select_dtypes(exclude=['float64',\"int64\"])\n",
    "        self.type_numeric = df.select_dtypes(include=['float64',\"int64\"])\n",
    "        self.transform_dict = self.get_transform_dict()\n",
    "        \n",
    "    def impute(self, df):\n",
    "        df = df.apply(lambda x: x.fillna(x.mean()),axis=0)\n",
    "        return df\n",
    "\n",
    "    def get_transform_dict(self):\n",
    "        transform_dict = {}\n",
    "        for col in self.type_objs.columns:\n",
    "            cats = pd.Categorical(self.type_objs[col]).categories\n",
    "            d = {}\n",
    "            for i, cat in enumerate(cats):\n",
    "                d[cat] = i + 2\n",
    "            transform_dict[col] = d\n",
    "        return transform_dict\n",
    "\n",
    "    def __call__(self):\n",
    "        df = self.type_objs\n",
    "        df.replace(self.transform_dict, inplace=True)\n",
    "        df = pd.merge(self.type_numeric, df, left_index=True, right_index=True)\n",
    "        df = self.impute(df)\n",
    "        return df"
   ]
  },
  {
   "cell_type": "code",
   "execution_count": 4,
   "metadata": {},
   "outputs": [
    {
     "name": "stderr",
     "output_type": "stream",
     "text": [
      "/Library/Frameworks/Python.framework/Versions/3.6/lib/python3.6/site-packages/pandas/core/generic.py:3855: SettingWithCopyWarning: \n",
      "A value is trying to be set on a copy of a slice from a DataFrame.\n",
      "Try using .loc[row_indexer,col_indexer] = value instead\n",
      "\n",
      "See the caveats in the documentation: http://pandas.pydata.org/pandas-docs/stable/indexing.html#indexing-view-versus-copy\n",
      "  regex=regex)\n"
     ]
    }
   ],
   "source": [
    "# Example of calling instance of this class\n",
    "train_numeric = NumericDataFrame(train)()"
   ]
  }
 ],
 "metadata": {
  "kernelspec": {
   "display_name": "Python 3",
   "language": "python",
   "name": "python3"
  },
  "language_info": {
   "codemirror_mode": {
    "name": "ipython",
    "version": 3
   },
   "file_extension": ".py",
   "mimetype": "text/x-python",
   "name": "python",
   "nbconvert_exporter": "python",
   "pygments_lexer": "ipython3",
   "version": "3.6.1"
  }
 },
 "nbformat": 4,
 "nbformat_minor": 2
}
