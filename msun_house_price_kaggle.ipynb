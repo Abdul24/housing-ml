{
 "cells": [
  {
   "cell_type": "code",
   "execution_count": 325,
   "metadata": {},
   "outputs": [],
   "source": [
    "%matplotlib inline"
   ]
  },
  {
   "cell_type": "code",
   "execution_count": 361,
   "metadata": {},
   "outputs": [],
   "source": [
    "from IPython.core.debugger import set_trace\n",
    "from collections import defaultdict\n",
    "import math\n",
    "\n",
    "# replace a list of items with a list of new_items in list words\n",
    "def replace_features(words, items, new_items):\n",
    "    for i, _ in enumerate(items):\n",
    "        words[words.index(items[i])]=new_items[i]\n",
    "    return words\n",
    "\n",
    "class House(object):\n",
    "    \"\"\"NYC Data Science Academy Project 3 - House Price Prediction\"\"\"\n",
    "    def __init__(self, train_file, test_file, describe_file):\n",
    "        self.train_data = pd.read_csv(train_file, na_values='')\n",
    "        self.test_data = pd.read_csv(test_file, na_values='')\n",
    "        self.desc_file = describe_file\n",
    "        self.feature_names = defaultdict(list)\n",
    "        \n",
    "    def train_head(self,n=5):\n",
    "        print(self.train_data.head(n))\n",
    "        \n",
    "    def test_head(self,n=5):\n",
    "        print(self.test_data.head(n))\n",
    "        \n",
    "    def train_shape(self):\n",
    "        print(self.train_data.shape)\n",
    "        \n",
    "    def test_shape(self):\n",
    "        print(self.test_data.shape)\n",
    "        \n",
    "    def train_info(self):\n",
    "        print(self.train_data.info())\n",
    "        \n",
    "    def test_info(self):\n",
    "        print(self.test_data.info())\n",
    "        \n",
    "    # parse description file\n",
    "    def parse_features(self):\n",
    "        with open(self.desc_file, 'r') as file:\n",
    "            item = ''\n",
    "            lines = file.readlines()\n",
    "            for line in lines:\n",
    "                # check empty line\n",
    "                line_stripped = line.strip()\n",
    "                if line_stripped: \n",
    "                    if line_stripped.find(':',0,min(20, len(line_stripped))) != -1:\n",
    "                        item = line_stripped.split(':')[0]\n",
    "                    else:\n",
    "                        level = line_stripped.split('\\t')[0]\n",
    "                        self.feature_names[item].append(level)\n",
    "                            \n",
    "    # check the differences between description file and dataset                        \n",
    "    def check_features(self):\n",
    "        # check each features\n",
    "        for feature in self.feature_names:\n",
    "            # check features against columns in train data\n",
    "            if feature in (self.train_data.columns):\n",
    "                # check the number of levels in feature\n",
    "                # skip the check if the levels are numeric\n",
    "                if  self.feature_names[feature] != None and (not self.feature_names[feature][0].isnumeric()):\n",
    "                    diff = set(self.train_data[feature]).difference(set(self.feature_names[feature]))\n",
    "                    # ignore the difference if it is of type nan or NA\n",
    "                    if len(diff) and not (len(diff) == 1 and (np.nan in diff)):\n",
    "                        print('%s:'%feature)\n",
    "                        print('\\ntrain: ', set(self.train_data[feature]))\n",
    "                        print('\\ndescription: ', set(self.feature_names[feature]))\n",
    "                        print('\\ndifference: ', diff, '\\n\\n')\n",
    "            else:\n",
    "                print('%s is not in the dataset.\\n\\n' % feature)\n",
    "                \n",
    "    # manually reconcile feature difference \n",
    "    def reconcile_features(self):\n",
    "        self.feature_names['MSZoning']=replace_features(self.feature_names['MSZoning'],\n",
    "                                                       ['C'],['C (all)'])\n",
    "        self.feature_names['Neighborhood']=replace_features(self.feature_names['Neighborhood'],\n",
    "                                                       ['Names'],['NAmes'])\n",
    "        self.feature_names['BldgType']=replace_features(self.feature_names['BldgType'],\n",
    "                                                       ['Duplx','TwnhsI','2FmCon'],\n",
    "                                                       ['Duplex', 'Twnhs', '2fmCon'])\n",
    "        self.feature_names['Exterior2nd']=replace_features(self.feature_names['Exterior2nd'],\n",
    "                                                       ['CemntBd','BrkComm'],\n",
    "                                                       ['CmentBd','Brk Cmn'])\n",
    "        self.feature_names['Exterior2nd'].append('Wd Shng')\n",
    "        self.feature_names['SaleType']=replace_features(self.feature_names['SaleType'],\n",
    "                                                       ['WD '],['WD'])\n",
    "#        self.feature_names['BedroomAbvGr']=['0','1','2','3','4','5','6','7','8']\n",
    "#        self.feature_names['KitchenAbvGr']=['0','1','2','3']\n",
    "        \n",
    "    # convert column training data to proper data type\n",
    "    def convert_train(self):\n",
    "        for feature in (self.train_data.columns):\n",
    "            if feature in self.feature_names:\n",
    "                self.train_data[feature].astype(pd.api.types.CategoricalDtype(categories=self.feature_names[feature]))\n",
    "            else:\n",
    "                self.train_data[feature].astype('int', errors='ignore')\n",
    "                \n",
    "    # convert column testing data to proper data type\n",
    "    def convert_test(self):\n",
    "        for feature in (self.test_data.columns):\n",
    "            if feature in self.feature_names:\n",
    "                self.test_data[feature].astype(pd.api.types.CategoricalDtype(categories=self.feature_names[feature]))\n",
    "            else:\n",
    "                self.test_data[feature].astype('int', errors='ignore')\n",
    "                \n",
    "    # Sales Histogram\n",
    "    def sales_hist(self):\n",
    "        fig, axes = plt.subplots(1,2, figsize=(14,6))\n",
    "        self.train_data['SalePrice'].plot.hist(bins=20, ax=axes[0])\n",
    "        axes[0].set_xlabel('House Price')\n",
    "        pd.Series(map(math.log,self.train_data['SalePrice']+1)).plot.hist(bins=20, ax=axes[1])\n",
    "        axes[1].set_xlabel('House Price - Log Scale')\n",
    "        plt.show()\n"
   ]
  },
  {
   "cell_type": "code",
   "execution_count": 363,
   "metadata": {},
   "outputs": [
    {
     "name": "stderr",
     "output_type": "stream",
     "text": [
      "/Users/msun/anaconda2/envs/py36/lib/python3.6/site-packages/pandas/core/internals.py:594: RuntimeWarning: Values and categories have different dtypes. Did you mean to use\n",
      "'Categorical.from_codes(codes, categories)'?\n",
      "  return self.make_block(Categorical(self.values, **kwargs))\n",
      "/Users/msun/anaconda2/envs/py36/lib/python3.6/site-packages/pandas/core/internals.py:594: RuntimeWarning: None of the categories were found in values. Did you mean to use\n",
      "'Categorical.from_codes(codes, categories)'?\n",
      "  return self.make_block(Categorical(self.values, **kwargs))\n"
     ]
    }
   ],
   "source": [
    "house = House('./dataset/train.csv', './dataset/test.csv', \n",
    "              './dataset/data_description.txt')\n",
    "house.parse_features()\n",
    "house.reconcile_features()\n",
    "house.convert_train()\n",
    "house.convert_test()"
   ]
  },
  {
   "cell_type": "code",
   "execution_count": 365,
   "metadata": {},
   "outputs": [
    {
     "data": {
      "image/png": "[encoded data removed]",
      "text/plain": [
       "<matplotlib.figure.Figure at 0x1c0c0fec18>"
      ]
     },
     "metadata": {},
     "output_type": "display_data"
    }
   ],
   "source": [
    "house.sales_hist()"
   ]
  },
  {
   "cell_type": "code",
   "execution_count": null,
   "metadata": {},
   "outputs": [],
   "source": []
  },
  {
   "cell_type": "code",
   "execution_count": null,
   "metadata": {},
   "outputs": [],
   "source": []
  },
  {
   "cell_type": "code",
   "execution_count": null,
   "metadata": {},
   "outputs": [],
   "source": []
  },
  {
   "cell_type": "code",
   "execution_count": null,
   "metadata": {},
   "outputs": [],
   "source": []
  },
  {
   "cell_type": "code",
   "execution_count": null,
   "metadata": {},
   "outputs": [],
   "source": []
  },
  {
   "cell_type": "code",
   "execution_count": null,
   "metadata": {},
   "outputs": [],
   "source": []
  },
  {
   "cell_type": "code",
   "execution_count": null,
   "metadata": {},
   "outputs": [],
   "source": []
  }
 ],
 "metadata": {
  "kernelspec": {
   "display_name": "Python 3",
   "language": "python",
   "name": "python3"
  },
  "language_info": {
   "codemirror_mode": {
    "name": "ipython",
    "version": 3
   },
   "file_extension": ".py",
   "mimetype": "text/x-python",
   "name": "python",
   "nbconvert_exporter": "python",
   "pygments_lexer": "ipython3",
   "version": "3.6.4"
  }
 },
 "nbformat": 4,
 "nbformat_minor": 2
}
